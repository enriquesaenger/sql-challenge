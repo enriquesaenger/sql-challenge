{
 "cells": [
  {
   "cell_type": "code",
   "execution_count": null,
   "metadata": {},
   "outputs": [],
   "source": [
    "import pandas as pd\n",
    "import matplotlib.pyplot as plt\n",
    "import numpy as np\n",
    "from config import (user, password, host, port, database)"
   ]
  },
  {
   "cell_type": "code",
   "execution_count": null,
   "metadata": {},
   "outputs": [],
   "source": [
    "from sqlalchemy import create_engine\n",
    "engine = create_engine(f'postgresql://{user}:{password}@{host}:{port}/{database}')\n",
    "conn = engine.connect()"
   ]
  },
  {
   "cell_type": "code",
   "execution_count": null,
   "metadata": {},
   "outputs": [],
   "source": [
    "departments = pd.read_sql_table(\"departments\", con=engine)\n",
    "employees = pd.read_sql_table(\"employees\", con=engine)\n",
    "dept_emp = pd.read_sql_table(\"dept_emp\", con=engine)\n",
    "dept_manager = pd.read_sql_table(\"dept_manager\", con=engine)\n",
    "salaries = pd.read_sql_table(\"salaries\", con=engine)\n",
    "titles = pd.read_sql_table(\"titles\", con=engine)"
   ]
  },
  {
   "cell_type": "code",
   "execution_count": null,
   "metadata": {},
   "outputs": [],
   "source": [
    "# #2 Create a histogram to visualize the most common salary ranges for employees\n",
    "\n",
    "# create a list of salaries\n",
    "x = salaries['salary'].tolist()\n",
    "\n",
    "# create x_ticks and x_labels\n",
    "x_ticks = np.arange(salaries['salary'].min(), salaries['salary'].max(), 10000)\n",
    "x_labels = [\"40-50\", \"50-60\", \"60-70\", \"70-80\", \"80-90\", \"90-100\", \"100-110\", \"110-120\"]\n",
    "\n",
    "# create bins\n",
    "bins = len(x_ticks)\n",
    "\n",
    "# plot the data\n",
    "plt.hist(x, bins)\n",
    "\n",
    "# add title and labels\n",
    "plt.title(\"Most Common Salary Ranges for Employees\")\n",
    "plt.xlabel(\"Salary (in thousands of USD)\")\n",
    "plt.ylabel(\"Number of Employees\")\n",
    "\n",
    "# add xticks\n",
    "plt.xticks(x_ticks, x_labels, rotation=25, horizontalalignment=\"left\")\n",
    "\n",
    "# display the plot\n",
    "plt.show()"
   ]
  },
  {
   "cell_type": "code",
   "execution_count": null,
   "metadata": {},
   "outputs": [],
   "source": [
    "# #3, Create a bar chart of average salary by title\n",
    "\n",
    "# merge dataframes\n",
    "titles_and_salaries = pd.merge(salaries,titles,on=\"emp_no\")\n",
    "\n",
    "# create groupby object\n",
    "salary_by_title = titles_and_salaries[\"salary\"].groupby(titles_and_salaries[\"title\"]).mean()\n",
    "\n",
    "# plot the data\n",
    "salary_by_title.plot(kind='bar')\n",
    "plt.xticks(rotation=30)\n",
    "\n",
    "# add title and axis labels\n",
    "plt.title(\"Average Salary by Job Title\")\n",
    "plt.xlabel(\"Title\")\n",
    "plt.ylabel(\"Salary (in USD)\")\n",
    "\n",
    "# display the plot\n",
    "plt.show()"
   ]
  },
  {
   "cell_type": "code",
   "execution_count": null,
   "metadata": {},
   "outputs": [],
   "source": []
  }
 ],
 "metadata": {
  "kernelspec": {
   "display_name": "Python 3",
   "language": "python",
   "name": "python3"
  },
  "language_info": {
   "codemirror_mode": {
    "name": "ipython",
    "version": 3
   },
   "file_extension": ".py",
   "mimetype": "text/x-python",
   "name": "python",
   "nbconvert_exporter": "python",
   "pygments_lexer": "ipython3",
   "version": "3.6.9"
  }
 },
 "nbformat": 4,
 "nbformat_minor": 4
}
